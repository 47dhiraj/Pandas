{
 "cells": [
  {
   "cell_type": "markdown",
   "id": "743233d2",
   "metadata": {},
   "source": [
    "### `Pandas plot() method` instead of using matplotlib subplot"
   ]
  },
  {
   "cell_type": "markdown",
   "id": "4c19f88f",
   "metadata": {},
   "source": [
    "### `pandas plot()` method comes in handy, when u quickly have to visualize the data while analyzing data"
   ]
  },
  {
   "cell_type": "code",
   "execution_count": 1,
   "id": "681dcfea",
   "metadata": {},
   "outputs": [],
   "source": [
    "import pandas as pd\n",
    "import matplotlib.pyplot as plt"
   ]
  },
  {
   "cell_type": "code",
   "execution_count": 2,
   "id": "fc87e2aa",
   "metadata": {},
   "outputs": [
    {
     "data": {
      "text/html": [
       "<div>\n",
       "<style scoped>\n",
       "    .dataframe tbody tr th:only-of-type {\n",
       "        vertical-align: middle;\n",
       "    }\n",
       "\n",
       "    .dataframe tbody tr th {\n",
       "        vertical-align: top;\n",
       "    }\n",
       "\n",
       "    .dataframe thead th {\n",
       "        text-align: right;\n",
       "    }\n",
       "</style>\n",
       "<table border=\"1\" class=\"dataframe\">\n",
       "  <thead>\n",
       "    <tr style=\"text-align: right;\">\n",
       "      <th></th>\n",
       "      <th>Year</th>\n",
       "      <th>Time</th>\n",
       "      <th>Athlete</th>\n",
       "      <th>Place</th>\n",
       "    </tr>\n",
       "  </thead>\n",
       "  <tbody>\n",
       "    <tr>\n",
       "      <th>0</th>\n",
       "      <td>2091</td>\n",
       "      <td>11.49</td>\n",
       "      <td>Shelly-Ann Fraser-Pryce</td>\n",
       "      <td>Jamaica</td>\n",
       "    </tr>\n",
       "    <tr>\n",
       "      <th>1</th>\n",
       "      <td>2092</td>\n",
       "      <td>8.61</td>\n",
       "      <td>Elaine Thompson-Herah</td>\n",
       "      <td>Jamaica</td>\n",
       "    </tr>\n",
       "    <tr>\n",
       "      <th>2</th>\n",
       "      <td>2093</td>\n",
       "      <td>11.49</td>\n",
       "      <td>Florence Griffith-Joyner</td>\n",
       "      <td>United States</td>\n",
       "    </tr>\n",
       "    <tr>\n",
       "      <th>3</th>\n",
       "      <td>2094</td>\n",
       "      <td>9.64</td>\n",
       "      <td>Carmelita Jeter</td>\n",
       "      <td>United States</td>\n",
       "    </tr>\n",
       "    <tr>\n",
       "      <th>4</th>\n",
       "      <td>2095</td>\n",
       "      <td>13.65</td>\n",
       "      <td>Marion Jones</td>\n",
       "      <td>United States</td>\n",
       "    </tr>\n",
       "  </tbody>\n",
       "</table>\n",
       "</div>"
      ],
      "text/plain": [
       "   Year   Time                   Athlete          Place\n",
       "0  2091  11.49   Shelly-Ann Fraser-Pryce        Jamaica\n",
       "1  2092   8.61     Elaine Thompson-Herah        Jamaica\n",
       "2  2093  11.49  Florence Griffith-Joyner  United States\n",
       "3  2094   9.64           Carmelita Jeter  United States\n",
       "4  2095  13.65              Marion Jones  United States"
      ]
     },
     "execution_count": 2,
     "metadata": {},
     "output_type": "execute_result"
    }
   ],
   "source": [
    "# dictionary data\n",
    "\n",
    "data = {\n",
    "    'Year': [2091, 2092, 2093, 2094, 2095],\n",
    "    'Time': [11.49, 08.61, 11.49, 09.64, 13.65],\n",
    "    'Athlete': ['Shelly-Ann Fraser-Pryce', 'Elaine Thompson-Herah', 'Florence Griffith-Joyner', 'Carmelita Jeter', 'Marion Jones'],\n",
    "    'Place': ['Jamaica', 'Jamaica', 'United States', 'United States', 'United States']\n",
    "}\n",
    "# Creating the dataframe using dictionary data\n",
    "\n",
    "df = pd.DataFrame(data)\n",
    "\n",
    "df\n"
   ]
  },
  {
   "cell_type": "code",
   "execution_count": 3,
   "id": "c0b6dc81",
   "metadata": {},
   "outputs": [
    {
     "data": {
      "image/png": "[encoded data removed]",
      "text/plain": [
       "<Figure size 640x480 with 1 Axes>"
      ]
     },
     "metadata": {},
     "output_type": "display_data"
    }
   ],
   "source": [
    "ax = df.plot(kind='scatter', x='Year', y='Time', title='Year vs Speed')"
   ]
  }
 ],
 "metadata": {
  "kernelspec": {
   "display_name": "Python 3 (ipykernel)",
   "language": "python",
   "name": "python3"
  },
  "language_info": {
   "codemirror_mode": {
    "name": "ipython",
    "version": 3
   },
   "file_extension": ".py",
   "mimetype": "text/x-python",
   "name": "python",
   "nbconvert_exporter": "python",
   "pygments_lexer": "ipython3",
   "version": "3.10.9"
  }
 },
 "nbformat": 4,
 "nbformat_minor": 5
}
