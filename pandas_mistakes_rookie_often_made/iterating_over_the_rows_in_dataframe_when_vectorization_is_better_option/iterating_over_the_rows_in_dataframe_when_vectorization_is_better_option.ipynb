{
 "cells": [
  {
   "cell_type": "markdown",
   "id": "98bd0b28",
   "metadata": {},
   "source": [
    "### `iterating_over_the_rows_in_dataframe_when_vectorization_is_better_option`"
   ]
  },
  {
   "cell_type": "code",
   "execution_count": 1,
   "id": "06420b10",
   "metadata": {},
   "outputs": [],
   "source": [
    "import pandas as pd"
   ]
  },
  {
   "cell_type": "code",
   "execution_count": 2,
   "id": "c93f0989",
   "metadata": {},
   "outputs": [],
   "source": [
    "# dictionary data\n",
    "\n",
    "data = {\n",
    "    'Year': [1980, 1990, 2010, 2020, 2022],\n",
    "    'Time': [11.49, 08.61, 11.49, 09.64, 13.65],\n",
    "    'Athlete': ['Shelly-Ann Fraser-Pryce', 'Elaine Thompson-Herah', 'Florence Griffith-Joyner', 'Carmelita Jeter', 'Marion Jones'],\n",
    "    'Place': ['Jamaica', 'Jamaica', 'United States', 'United States', 'United States']\n",
    "}"
   ]
  },
  {
   "cell_type": "code",
   "execution_count": 3,
   "id": "efed5b8b",
   "metadata": {},
   "outputs": [],
   "source": [
    "# Creating the dataframe using dictionary data\n",
    "\n",
    "df = pd.DataFrame(data)"
   ]
  },
  {
   "cell_type": "code",
   "execution_count": 4,
   "id": "5a4e092d",
   "metadata": {},
   "outputs": [
    {
     "data": {
      "text/html": [
       "<div>\n",
       "<style scoped>\n",
       "    .dataframe tbody tr th:only-of-type {\n",
       "        vertical-align: middle;\n",
       "    }\n",
       "\n",
       "    .dataframe tbody tr th {\n",
       "        vertical-align: top;\n",
       "    }\n",
       "\n",
       "    .dataframe thead th {\n",
       "        text-align: right;\n",
       "    }\n",
       "</style>\n",
       "<table border=\"1\" class=\"dataframe\">\n",
       "  <thead>\n",
       "    <tr style=\"text-align: right;\">\n",
       "      <th></th>\n",
       "      <th>Year</th>\n",
       "      <th>Time</th>\n",
       "      <th>Athlete</th>\n",
       "      <th>Place</th>\n",
       "    </tr>\n",
       "  </thead>\n",
       "  <tbody>\n",
       "    <tr>\n",
       "      <th>0</th>\n",
       "      <td>1980</td>\n",
       "      <td>11.49</td>\n",
       "      <td>Shelly-Ann Fraser-Pryce</td>\n",
       "      <td>Jamaica</td>\n",
       "    </tr>\n",
       "    <tr>\n",
       "      <th>1</th>\n",
       "      <td>1990</td>\n",
       "      <td>8.61</td>\n",
       "      <td>Elaine Thompson-Herah</td>\n",
       "      <td>Jamaica</td>\n",
       "    </tr>\n",
       "    <tr>\n",
       "      <th>2</th>\n",
       "      <td>2010</td>\n",
       "      <td>11.49</td>\n",
       "      <td>Florence Griffith-Joyner</td>\n",
       "      <td>United States</td>\n",
       "    </tr>\n",
       "    <tr>\n",
       "      <th>3</th>\n",
       "      <td>2020</td>\n",
       "      <td>9.64</td>\n",
       "      <td>Carmelita Jeter</td>\n",
       "      <td>United States</td>\n",
       "    </tr>\n",
       "    <tr>\n",
       "      <th>4</th>\n",
       "      <td>2022</td>\n",
       "      <td>13.65</td>\n",
       "      <td>Marion Jones</td>\n",
       "      <td>United States</td>\n",
       "    </tr>\n",
       "  </tbody>\n",
       "</table>\n",
       "</div>"
      ],
      "text/plain": [
       "   Year   Time                   Athlete          Place\n",
       "0  1980  11.49   Shelly-Ann Fraser-Pryce        Jamaica\n",
       "1  1990   8.61     Elaine Thompson-Herah        Jamaica\n",
       "2  2010  11.49  Florence Griffith-Joyner  United States\n",
       "3  2020   9.64           Carmelita Jeter  United States\n",
       "4  2022  13.65              Marion Jones  United States"
      ]
     },
     "execution_count": 4,
     "metadata": {},
     "output_type": "execute_result"
    }
   ],
   "source": [
    "df"
   ]
  },
  {
   "cell_type": "markdown",
   "id": "e895b1be",
   "metadata": {},
   "source": [
    "### `Best way: Vectorization technique` "
   ]
  },
  {
   "cell_type": "code",
   "execution_count": 5,
   "id": "d39d124f",
   "metadata": {},
   "outputs": [],
   "source": [
    "df['is_recent'] = df['Year'] > 2000"
   ]
  },
  {
   "cell_type": "code",
   "execution_count": 6,
   "id": "30fd4142",
   "metadata": {},
   "outputs": [
    {
     "data": {
      "text/html": [
       "<div>\n",
       "<style scoped>\n",
       "    .dataframe tbody tr th:only-of-type {\n",
       "        vertical-align: middle;\n",
       "    }\n",
       "\n",
       "    .dataframe tbody tr th {\n",
       "        vertical-align: top;\n",
       "    }\n",
       "\n",
       "    .dataframe thead th {\n",
       "        text-align: right;\n",
       "    }\n",
       "</style>\n",
       "<table border=\"1\" class=\"dataframe\">\n",
       "  <thead>\n",
       "    <tr style=\"text-align: right;\">\n",
       "      <th></th>\n",
       "      <th>Year</th>\n",
       "      <th>Time</th>\n",
       "      <th>Athlete</th>\n",
       "      <th>Place</th>\n",
       "      <th>is_recent</th>\n",
       "    </tr>\n",
       "  </thead>\n",
       "  <tbody>\n",
       "    <tr>\n",
       "      <th>0</th>\n",
       "      <td>1980</td>\n",
       "      <td>11.49</td>\n",
       "      <td>Shelly-Ann Fraser-Pryce</td>\n",
       "      <td>Jamaica</td>\n",
       "      <td>False</td>\n",
       "    </tr>\n",
       "    <tr>\n",
       "      <th>1</th>\n",
       "      <td>1990</td>\n",
       "      <td>8.61</td>\n",
       "      <td>Elaine Thompson-Herah</td>\n",
       "      <td>Jamaica</td>\n",
       "      <td>False</td>\n",
       "    </tr>\n",
       "    <tr>\n",
       "      <th>2</th>\n",
       "      <td>2010</td>\n",
       "      <td>11.49</td>\n",
       "      <td>Florence Griffith-Joyner</td>\n",
       "      <td>United States</td>\n",
       "      <td>True</td>\n",
       "    </tr>\n",
       "    <tr>\n",
       "      <th>3</th>\n",
       "      <td>2020</td>\n",
       "      <td>9.64</td>\n",
       "      <td>Carmelita Jeter</td>\n",
       "      <td>United States</td>\n",
       "      <td>True</td>\n",
       "    </tr>\n",
       "    <tr>\n",
       "      <th>4</th>\n",
       "      <td>2022</td>\n",
       "      <td>13.65</td>\n",
       "      <td>Marion Jones</td>\n",
       "      <td>United States</td>\n",
       "      <td>True</td>\n",
       "    </tr>\n",
       "  </tbody>\n",
       "</table>\n",
       "</div>"
      ],
      "text/plain": [
       "   Year   Time                   Athlete          Place  is_recent\n",
       "0  1980  11.49   Shelly-Ann Fraser-Pryce        Jamaica      False\n",
       "1  1990   8.61     Elaine Thompson-Herah        Jamaica      False\n",
       "2  2010  11.49  Florence Griffith-Joyner  United States       True\n",
       "3  2020   9.64           Carmelita Jeter  United States       True\n",
       "4  2022  13.65              Marion Jones  United States       True"
      ]
     },
     "execution_count": 6,
     "metadata": {},
     "output_type": "execute_result"
    }
   ],
   "source": [
    "df"
   ]
  },
  {
   "cell_type": "markdown",
   "id": "428a00fa",
   "metadata": {},
   "source": [
    "### `Alternative way:  Iterating over the rows in dataframe`"
   ]
  },
  {
   "cell_type": "code",
   "execution_count": 7,
   "id": "041fbe13",
   "metadata": {},
   "outputs": [],
   "source": [
    "for i, row in df.iterrows():\n",
    "    if row['Year'] > 2000:\n",
    "        df.loc[i, 'is_recent'] = True\n",
    "    else:\n",
    "        df.loc[i, 'is_recent'] = False"
   ]
  },
  {
   "cell_type": "code",
   "execution_count": 8,
   "id": "37c43ffb",
   "metadata": {},
   "outputs": [
    {
     "data": {
      "text/html": [
       "<div>\n",
       "<style scoped>\n",
       "    .dataframe tbody tr th:only-of-type {\n",
       "        vertical-align: middle;\n",
       "    }\n",
       "\n",
       "    .dataframe tbody tr th {\n",
       "        vertical-align: top;\n",
       "    }\n",
       "\n",
       "    .dataframe thead th {\n",
       "        text-align: right;\n",
       "    }\n",
       "</style>\n",
       "<table border=\"1\" class=\"dataframe\">\n",
       "  <thead>\n",
       "    <tr style=\"text-align: right;\">\n",
       "      <th></th>\n",
       "      <th>Year</th>\n",
       "      <th>Time</th>\n",
       "      <th>Athlete</th>\n",
       "      <th>Place</th>\n",
       "      <th>is_recent</th>\n",
       "    </tr>\n",
       "  </thead>\n",
       "  <tbody>\n",
       "    <tr>\n",
       "      <th>0</th>\n",
       "      <td>1980</td>\n",
       "      <td>11.49</td>\n",
       "      <td>Shelly-Ann Fraser-Pryce</td>\n",
       "      <td>Jamaica</td>\n",
       "      <td>False</td>\n",
       "    </tr>\n",
       "    <tr>\n",
       "      <th>1</th>\n",
       "      <td>1990</td>\n",
       "      <td>8.61</td>\n",
       "      <td>Elaine Thompson-Herah</td>\n",
       "      <td>Jamaica</td>\n",
       "      <td>False</td>\n",
       "    </tr>\n",
       "    <tr>\n",
       "      <th>2</th>\n",
       "      <td>2010</td>\n",
       "      <td>11.49</td>\n",
       "      <td>Florence Griffith-Joyner</td>\n",
       "      <td>United States</td>\n",
       "      <td>True</td>\n",
       "    </tr>\n",
       "    <tr>\n",
       "      <th>3</th>\n",
       "      <td>2020</td>\n",
       "      <td>9.64</td>\n",
       "      <td>Carmelita Jeter</td>\n",
       "      <td>United States</td>\n",
       "      <td>True</td>\n",
       "    </tr>\n",
       "    <tr>\n",
       "      <th>4</th>\n",
       "      <td>2022</td>\n",
       "      <td>13.65</td>\n",
       "      <td>Marion Jones</td>\n",
       "      <td>United States</td>\n",
       "      <td>True</td>\n",
       "    </tr>\n",
       "  </tbody>\n",
       "</table>\n",
       "</div>"
      ],
      "text/plain": [
       "   Year   Time                   Athlete          Place  is_recent\n",
       "0  1980  11.49   Shelly-Ann Fraser-Pryce        Jamaica      False\n",
       "1  1990   8.61     Elaine Thompson-Herah        Jamaica      False\n",
       "2  2010  11.49  Florence Griffith-Joyner  United States       True\n",
       "3  2020   9.64           Carmelita Jeter  United States       True\n",
       "4  2022  13.65              Marion Jones  United States       True"
      ]
     },
     "execution_count": 8,
     "metadata": {},
     "output_type": "execute_result"
    }
   ],
   "source": [
    "df"
   ]
  }
 ],
 "metadata": {
  "kernelspec": {
   "display_name": "Python 3 (ipykernel)",
   "language": "python",
   "name": "python3"
  },
  "language_info": {
   "codemirror_mode": {
    "name": "ipython",
    "version": 3
   },
   "file_extension": ".py",
   "mimetype": "text/x-python",
   "name": "python",
   "nbconvert_exporter": "python",
   "pygments_lexer": "ipython3",
   "version": "3.10.9"
  }
 },
 "nbformat": 4,
 "nbformat_minor": 5
}
