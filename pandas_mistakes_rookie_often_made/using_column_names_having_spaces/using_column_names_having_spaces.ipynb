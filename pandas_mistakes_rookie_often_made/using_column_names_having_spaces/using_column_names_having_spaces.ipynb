{
 "cells": [
  {
   "cell_type": "markdown",
   "id": "ed9e5095",
   "metadata": {},
   "source": [
    "### `using column name having space in it is bad idea`"
   ]
  },
  {
   "cell_type": "markdown",
   "id": "42f13cad",
   "metadata": {},
   "source": [
    "### `because, u now lose the ability to acces the column using  .  syntax`"
   ]
  },
  {
   "cell_type": "code",
   "execution_count": 1,
   "id": "4becc487",
   "metadata": {},
   "outputs": [],
   "source": [
    "import pandas as pd"
   ]
  },
  {
   "cell_type": "code",
   "execution_count": 2,
   "id": "03cfc0b6",
   "metadata": {},
   "outputs": [],
   "source": [
    "# dictionary data\n",
    "\n",
    "data= {\n",
    "    'Jobs': ['Hitman', 'IT', 'Machine'],\n",
    "    \n",
    "    'Bingo Bang': ['Agent47', 'Analyst', 'Mechanics']\n",
    "}"
   ]
  },
  {
   "cell_type": "code",
   "execution_count": 3,
   "id": "c6968b15",
   "metadata": {},
   "outputs": [],
   "source": [
    "# Create the DataFrame using dicitionary data\n",
    "\n",
    "df = pd.DataFrame(data)"
   ]
  },
  {
   "cell_type": "code",
   "execution_count": 4,
   "id": "665404a3",
   "metadata": {},
   "outputs": [
    {
     "data": {
      "text/html": [
       "<div>\n",
       "<style scoped>\n",
       "    .dataframe tbody tr th:only-of-type {\n",
       "        vertical-align: middle;\n",
       "    }\n",
       "\n",
       "    .dataframe tbody tr th {\n",
       "        vertical-align: top;\n",
       "    }\n",
       "\n",
       "    .dataframe thead th {\n",
       "        text-align: right;\n",
       "    }\n",
       "</style>\n",
       "<table border=\"1\" class=\"dataframe\">\n",
       "  <thead>\n",
       "    <tr style=\"text-align: right;\">\n",
       "      <th></th>\n",
       "      <th>Jobs</th>\n",
       "      <th>Bingo Bang</th>\n",
       "    </tr>\n",
       "  </thead>\n",
       "  <tbody>\n",
       "    <tr>\n",
       "      <th>0</th>\n",
       "      <td>Hitman</td>\n",
       "      <td>Agent47</td>\n",
       "    </tr>\n",
       "    <tr>\n",
       "      <th>1</th>\n",
       "      <td>IT</td>\n",
       "      <td>Analyst</td>\n",
       "    </tr>\n",
       "    <tr>\n",
       "      <th>2</th>\n",
       "      <td>Machine</td>\n",
       "      <td>Mechanics</td>\n",
       "    </tr>\n",
       "  </tbody>\n",
       "</table>\n",
       "</div>"
      ],
      "text/plain": [
       "      Jobs Bingo Bang\n",
       "0   Hitman    Agent47\n",
       "1       IT    Analyst\n",
       "2  Machine  Mechanics"
      ]
     },
     "execution_count": 4,
     "metadata": {},
     "output_type": "execute_result"
    }
   ],
   "source": [
    "df"
   ]
  },
  {
   "cell_type": "markdown",
   "id": "792b5f2d",
   "metadata": {},
   "source": [
    "### cannot access column using ` . ` syntax"
   ]
  },
  {
   "cell_type": "code",
   "execution_count": 5,
   "id": "3310bfeb",
   "metadata": {},
   "outputs": [
    {
     "ename": "SyntaxError",
     "evalue": "invalid syntax (863944178.py, line 2)",
     "output_type": "error",
     "traceback": [
      "\u001b[1;36m  Cell \u001b[1;32mIn[5], line 2\u001b[1;36m\u001b[0m\n\u001b[1;33m    df.Bingo Bang\u001b[0m\n\u001b[1;37m             ^\u001b[0m\n\u001b[1;31mSyntaxError\u001b[0m\u001b[1;31m:\u001b[0m invalid syntax\n"
     ]
    }
   ],
   "source": [
    "# below code is right, but it throws SyntaxError (because there is space in the column name)\n",
    "df.Bingo Bang"
   ]
  },
  {
   "cell_type": "markdown",
   "id": "50a2f70d",
   "metadata": {},
   "source": [
    "### better/preferable to use ` _ underscore` in place of space in column name"
   ]
  },
  {
   "cell_type": "code",
   "execution_count": 6,
   "id": "7bd5ec6c",
   "metadata": {},
   "outputs": [],
   "source": [
    "# dictionary data\n",
    "\n",
    "data= {\n",
    "    'Jobs': ['Hitman', 'IT', 'Machine'],\n",
    "    \n",
    "    'Bingo_Bang': ['Agent47', 'Analyst', 'Mechanics']\n",
    "}"
   ]
  },
  {
   "cell_type": "code",
   "execution_count": 7,
   "id": "3256cc42",
   "metadata": {},
   "outputs": [],
   "source": [
    "df2 = pd.DataFrame(data)"
   ]
  },
  {
   "cell_type": "code",
   "execution_count": 8,
   "id": "f9feabd5",
   "metadata": {},
   "outputs": [
    {
     "data": {
      "text/html": [
       "<div>\n",
       "<style scoped>\n",
       "    .dataframe tbody tr th:only-of-type {\n",
       "        vertical-align: middle;\n",
       "    }\n",
       "\n",
       "    .dataframe tbody tr th {\n",
       "        vertical-align: top;\n",
       "    }\n",
       "\n",
       "    .dataframe thead th {\n",
       "        text-align: right;\n",
       "    }\n",
       "</style>\n",
       "<table border=\"1\" class=\"dataframe\">\n",
       "  <thead>\n",
       "    <tr style=\"text-align: right;\">\n",
       "      <th></th>\n",
       "      <th>Jobs</th>\n",
       "      <th>Bingo_Bang</th>\n",
       "    </tr>\n",
       "  </thead>\n",
       "  <tbody>\n",
       "    <tr>\n",
       "      <th>0</th>\n",
       "      <td>Hitman</td>\n",
       "      <td>Agent47</td>\n",
       "    </tr>\n",
       "    <tr>\n",
       "      <th>1</th>\n",
       "      <td>IT</td>\n",
       "      <td>Analyst</td>\n",
       "    </tr>\n",
       "    <tr>\n",
       "      <th>2</th>\n",
       "      <td>Machine</td>\n",
       "      <td>Mechanics</td>\n",
       "    </tr>\n",
       "  </tbody>\n",
       "</table>\n",
       "</div>"
      ],
      "text/plain": [
       "      Jobs Bingo_Bang\n",
       "0   Hitman    Agent47\n",
       "1       IT    Analyst\n",
       "2  Machine  Mechanics"
      ]
     },
     "execution_count": 8,
     "metadata": {},
     "output_type": "execute_result"
    }
   ],
   "source": [
    "df2"
   ]
  },
  {
   "cell_type": "code",
   "execution_count": 9,
   "id": "930b1e61",
   "metadata": {},
   "outputs": [
    {
     "data": {
      "text/plain": [
       "0      Agent47\n",
       "1      Analyst\n",
       "2    Mechanics\n",
       "Name: Bingo_Bang, dtype: object"
      ]
     },
     "execution_count": 9,
     "metadata": {},
     "output_type": "execute_result"
    }
   ],
   "source": [
    "# now, can easily access column name having underscore in the place of space\n",
    "\n",
    "df2.Bingo_Bang"
   ]
  }
 ],
 "metadata": {
  "kernelspec": {
   "display_name": "Python 3 (ipykernel)",
   "language": "python",
   "name": "python3"
  },
  "language_info": {
   "codemirror_mode": {
    "name": "ipython",
    "version": 3
   },
   "file_extension": ".py",
   "mimetype": "text/x-python",
   "name": "python",
   "nbconvert_exporter": "python",
   "pygments_lexer": "ipython3",
   "version": "3.10.9"
  }
 },
 "nbformat": 4,
 "nbformat_minor": 5
}
