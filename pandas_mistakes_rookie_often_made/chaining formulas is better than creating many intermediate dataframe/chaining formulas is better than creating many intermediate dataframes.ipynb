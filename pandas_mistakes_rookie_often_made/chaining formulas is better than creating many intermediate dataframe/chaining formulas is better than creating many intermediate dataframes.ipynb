{
 "cells": [
  {
   "cell_type": "markdown",
   "id": "52cecfc8",
   "metadata": {},
   "source": [
    "### `Chaining Formulas is better than creating many intermediate dataframes`"
   ]
  },
  {
   "cell_type": "code",
   "execution_count": 1,
   "id": "d33bc59d",
   "metadata": {},
   "outputs": [],
   "source": [
    "import pandas as pd"
   ]
  },
  {
   "cell_type": "code",
   "execution_count": 2,
   "id": "2111b65c",
   "metadata": {},
   "outputs": [],
   "source": [
    "# dictionary data\n",
    "\n",
    "data = {\n",
    "    'Year': [1980, 1990, 20001, 2015, 2023],\n",
    "    'Time': [11.49, 08.61, 11.49, 09.64, 13.65],\n",
    "    'Athlete': ['Shelly-Ann Fraser-Pryce', 'Elaine Thompson-Herah', 'Florence Griffith-Joyner', 'Carmelita Jeter', 'Marion Jones'],\n",
    "    'Place': ['Jamaica', 'Jamaica', 'United States', 'United States', 'United States']\n",
    "}"
   ]
  },
  {
   "cell_type": "code",
   "execution_count": 3,
   "id": "3411c544",
   "metadata": {},
   "outputs": [],
   "source": [
    "# Creating the dataframe using dictionary data\n",
    "\n",
    "df = pd.DataFrame(data)"
   ]
  },
  {
   "cell_type": "code",
   "execution_count": 4,
   "id": "91f88f4b",
   "metadata": {},
   "outputs": [
    {
     "data": {
      "text/html": [
       "<div>\n",
       "<style scoped>\n",
       "    .dataframe tbody tr th:only-of-type {\n",
       "        vertical-align: middle;\n",
       "    }\n",
       "\n",
       "    .dataframe tbody tr th {\n",
       "        vertical-align: top;\n",
       "    }\n",
       "\n",
       "    .dataframe thead th {\n",
       "        text-align: right;\n",
       "    }\n",
       "</style>\n",
       "<table border=\"1\" class=\"dataframe\">\n",
       "  <thead>\n",
       "    <tr style=\"text-align: right;\">\n",
       "      <th></th>\n",
       "      <th>Year</th>\n",
       "      <th>Time</th>\n",
       "      <th>Athlete</th>\n",
       "      <th>Place</th>\n",
       "    </tr>\n",
       "  </thead>\n",
       "  <tbody>\n",
       "    <tr>\n",
       "      <th>0</th>\n",
       "      <td>2091</td>\n",
       "      <td>11.49</td>\n",
       "      <td>Shelly-Ann Fraser-Pryce</td>\n",
       "      <td>Jamaica</td>\n",
       "    </tr>\n",
       "    <tr>\n",
       "      <th>1</th>\n",
       "      <td>2092</td>\n",
       "      <td>8.61</td>\n",
       "      <td>Elaine Thompson-Herah</td>\n",
       "      <td>Jamaica</td>\n",
       "    </tr>\n",
       "    <tr>\n",
       "      <th>2</th>\n",
       "      <td>2093</td>\n",
       "      <td>11.49</td>\n",
       "      <td>Florence Griffith-Joyner</td>\n",
       "      <td>United States</td>\n",
       "    </tr>\n",
       "    <tr>\n",
       "      <th>3</th>\n",
       "      <td>2094</td>\n",
       "      <td>9.64</td>\n",
       "      <td>Carmelita Jeter</td>\n",
       "      <td>United States</td>\n",
       "    </tr>\n",
       "    <tr>\n",
       "      <th>4</th>\n",
       "      <td>2095</td>\n",
       "      <td>13.65</td>\n",
       "      <td>Marion Jones</td>\n",
       "      <td>United States</td>\n",
       "    </tr>\n",
       "  </tbody>\n",
       "</table>\n",
       "</div>"
      ],
      "text/plain": [
       "   Year   Time                   Athlete          Place\n",
       "0  2091  11.49   Shelly-Ann Fraser-Pryce        Jamaica\n",
       "1  2092   8.61     Elaine Thompson-Herah        Jamaica\n",
       "2  2093  11.49  Florence Griffith-Joyner  United States\n",
       "3  2094   9.64           Carmelita Jeter  United States\n",
       "4  2095  13.65              Marion Jones  United States"
      ]
     },
     "execution_count": 4,
     "metadata": {},
     "output_type": "execute_result"
    }
   ],
   "source": [
    "df"
   ]
  },
  {
   "cell_type": "code",
   "execution_count": 6,
   "id": "1d82cc71",
   "metadata": {},
   "outputs": [],
   "source": [
    "df_out = (df.query('Year > 1950')\n",
    "          .groupby(['Athlete'])[['Time']].min()\n",
    "          .sort_values('Athlete')\n",
    "         )"
   ]
  },
  {
   "cell_type": "code",
   "execution_count": 7,
   "id": "2d6b3044",
   "metadata": {},
   "outputs": [
    {
     "data": {
      "text/html": [
       "<div>\n",
       "<style scoped>\n",
       "    .dataframe tbody tr th:only-of-type {\n",
       "        vertical-align: middle;\n",
       "    }\n",
       "\n",
       "    .dataframe tbody tr th {\n",
       "        vertical-align: top;\n",
       "    }\n",
       "\n",
       "    .dataframe thead th {\n",
       "        text-align: right;\n",
       "    }\n",
       "</style>\n",
       "<table border=\"1\" class=\"dataframe\">\n",
       "  <thead>\n",
       "    <tr style=\"text-align: right;\">\n",
       "      <th></th>\n",
       "      <th>Time</th>\n",
       "    </tr>\n",
       "    <tr>\n",
       "      <th>Athlete</th>\n",
       "      <th></th>\n",
       "    </tr>\n",
       "  </thead>\n",
       "  <tbody>\n",
       "    <tr>\n",
       "      <th>Carmelita Jeter</th>\n",
       "      <td>9.64</td>\n",
       "    </tr>\n",
       "    <tr>\n",
       "      <th>Elaine Thompson-Herah</th>\n",
       "      <td>8.61</td>\n",
       "    </tr>\n",
       "    <tr>\n",
       "      <th>Florence Griffith-Joyner</th>\n",
       "      <td>11.49</td>\n",
       "    </tr>\n",
       "    <tr>\n",
       "      <th>Marion Jones</th>\n",
       "      <td>13.65</td>\n",
       "    </tr>\n",
       "    <tr>\n",
       "      <th>Shelly-Ann Fraser-Pryce</th>\n",
       "      <td>11.49</td>\n",
       "    </tr>\n",
       "  </tbody>\n",
       "</table>\n",
       "</div>"
      ],
      "text/plain": [
       "                           Time\n",
       "Athlete                        \n",
       "Carmelita Jeter            9.64\n",
       "Elaine Thompson-Herah      8.61\n",
       "Florence Griffith-Joyner  11.49\n",
       "Marion Jones              13.65\n",
       "Shelly-Ann Fraser-Pryce   11.49"
      ]
     },
     "execution_count": 7,
     "metadata": {},
     "output_type": "execute_result"
    }
   ],
   "source": [
    "df_out"
   ]
  }
 ],
 "metadata": {
  "kernelspec": {
   "display_name": "Python 3 (ipykernel)",
   "language": "python",
   "name": "python3"
  },
  "language_info": {
   "codemirror_mode": {
    "name": "ipython",
    "version": 3
   },
   "file_extension": ".py",
   "mimetype": "text/x-python",
   "name": "python",
   "nbconvert_exporter": "python",
   "pygments_lexer": "ipython3",
   "version": "3.10.9"
  }
 },
 "nbformat": 4,
 "nbformat_minor": 5
}
