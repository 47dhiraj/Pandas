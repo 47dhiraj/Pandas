{
 "cells": [
  {
   "cell_type": "markdown",
   "id": "37ea872d",
   "metadata": {},
   "source": [
    "### pandas `.style` attribute may be better for `conditional formatting` than switching to excel"
   ]
  },
  {
   "cell_type": "code",
   "execution_count": 1,
   "id": "c13d174e",
   "metadata": {},
   "outputs": [],
   "source": [
    "import pandas as pd"
   ]
  },
  {
   "cell_type": "code",
   "execution_count": 2,
   "id": "44d046ea",
   "metadata": {},
   "outputs": [],
   "source": [
    "# dictionary data\n",
    "\n",
    "data = {\n",
    "    'Year': [2091, 2092, 2093, 2094, 2095],\n",
    "    'Time': [11.49, 08.61, 11.49, 09.64, 13.65],\n",
    "    'Athlete': ['Shelly-Ann Fraser-Pryce', 'Elaine Thompson-Herah', 'Florence Griffith-Joyner', 'Carmelita Jeter', 'Marion Jones'],\n",
    "    'Place': ['Jamaica', 'Jamaica', 'United States', 'United States', 'United States']\n",
    "}"
   ]
  },
  {
   "cell_type": "code",
   "execution_count": 3,
   "id": "9c4ceaeb",
   "metadata": {},
   "outputs": [],
   "source": [
    "# Creating the dataframe using dictionary data\n",
    "\n",
    "df = pd.DataFrame(data)"
   ]
  },
  {
   "cell_type": "code",
   "execution_count": 4,
   "id": "5f8e6832",
   "metadata": {},
   "outputs": [
    {
     "data": {
      "text/html": [
       "<div>\n",
       "<style scoped>\n",
       "    .dataframe tbody tr th:only-of-type {\n",
       "        vertical-align: middle;\n",
       "    }\n",
       "\n",
       "    .dataframe tbody tr th {\n",
       "        vertical-align: top;\n",
       "    }\n",
       "\n",
       "    .dataframe thead th {\n",
       "        text-align: right;\n",
       "    }\n",
       "</style>\n",
       "<table border=\"1\" class=\"dataframe\">\n",
       "  <thead>\n",
       "    <tr style=\"text-align: right;\">\n",
       "      <th></th>\n",
       "      <th>Year</th>\n",
       "      <th>Time</th>\n",
       "      <th>Athlete</th>\n",
       "      <th>Place</th>\n",
       "    </tr>\n",
       "  </thead>\n",
       "  <tbody>\n",
       "    <tr>\n",
       "      <th>0</th>\n",
       "      <td>2091</td>\n",
       "      <td>11.49</td>\n",
       "      <td>Shelly-Ann Fraser-Pryce</td>\n",
       "      <td>Jamaica</td>\n",
       "    </tr>\n",
       "    <tr>\n",
       "      <th>1</th>\n",
       "      <td>2092</td>\n",
       "      <td>8.61</td>\n",
       "      <td>Elaine Thompson-Herah</td>\n",
       "      <td>Jamaica</td>\n",
       "    </tr>\n",
       "    <tr>\n",
       "      <th>2</th>\n",
       "      <td>2093</td>\n",
       "      <td>11.49</td>\n",
       "      <td>Florence Griffith-Joyner</td>\n",
       "      <td>United States</td>\n",
       "    </tr>\n",
       "    <tr>\n",
       "      <th>3</th>\n",
       "      <td>2094</td>\n",
       "      <td>9.64</td>\n",
       "      <td>Carmelita Jeter</td>\n",
       "      <td>United States</td>\n",
       "    </tr>\n",
       "    <tr>\n",
       "      <th>4</th>\n",
       "      <td>2095</td>\n",
       "      <td>13.65</td>\n",
       "      <td>Marion Jones</td>\n",
       "      <td>United States</td>\n",
       "    </tr>\n",
       "  </tbody>\n",
       "</table>\n",
       "</div>"
      ],
      "text/plain": [
       "   Year   Time                   Athlete          Place\n",
       "0  2091  11.49   Shelly-Ann Fraser-Pryce        Jamaica\n",
       "1  2092   8.61     Elaine Thompson-Herah        Jamaica\n",
       "2  2093  11.49  Florence Griffith-Joyner  United States\n",
       "3  2094   9.64           Carmelita Jeter  United States\n",
       "4  2095  13.65              Marion Jones  United States"
      ]
     },
     "execution_count": 4,
     "metadata": {},
     "output_type": "execute_result"
    }
   ],
   "source": [
    "df"
   ]
  },
  {
   "cell_type": "markdown",
   "id": "451c7ed1",
   "metadata": {},
   "source": [
    "### using `.style` attribute"
   ]
  },
  {
   "cell_type": "code",
   "execution_count": 14,
   "id": "ed668ec2",
   "metadata": {},
   "outputs": [
    {
     "data": {
      "text/html": [
       "<style type=\"text/css\">\n",
       "#T_9dbe7_row0_col1 {\n",
       "  background-color: #f7fcf5;\n",
       "  color: #000000;\n",
       "}\n",
       "#T_9dbe7_row1_col1 {\n",
       "  background-color: #d2edcc;\n",
       "  color: #000000;\n",
       "}\n",
       "#T_9dbe7_row2_col1, #T_9dbe7_row3_col1 {\n",
       "  background-color: #56b567;\n",
       "  color: #f1f1f1;\n",
       "}\n",
       "#T_9dbe7_row4_col1 {\n",
       "  background-color: #00441b;\n",
       "  color: #f1f1f1;\n",
       "}\n",
       "</style>\n",
       "<table id=\"T_9dbe7\">\n",
       "  <thead>\n",
       "    <tr>\n",
       "      <th class=\"blank level0\" >&nbsp;</th>\n",
       "      <th id=\"T_9dbe7_level0_col0\" class=\"col_heading level0 col0\" >Athlete</th>\n",
       "      <th id=\"T_9dbe7_level0_col1\" class=\"col_heading level0 col1\" >Time</th>\n",
       "    </tr>\n",
       "  </thead>\n",
       "  <tbody>\n",
       "    <tr>\n",
       "      <th id=\"T_9dbe7_level0_row0\" class=\"row_heading level0 row0\" >1</th>\n",
       "      <td id=\"T_9dbe7_row0_col0\" class=\"data row0 col0\" >Elaine Thompson-Herah</td>\n",
       "      <td id=\"T_9dbe7_row0_col1\" class=\"data row0 col1\" >8.610000</td>\n",
       "    </tr>\n",
       "    <tr>\n",
       "      <th id=\"T_9dbe7_level0_row1\" class=\"row_heading level0 row1\" >3</th>\n",
       "      <td id=\"T_9dbe7_row1_col0\" class=\"data row1 col0\" >Carmelita Jeter</td>\n",
       "      <td id=\"T_9dbe7_row1_col1\" class=\"data row1 col1\" >9.640000</td>\n",
       "    </tr>\n",
       "    <tr>\n",
       "      <th id=\"T_9dbe7_level0_row2\" class=\"row_heading level0 row2\" >0</th>\n",
       "      <td id=\"T_9dbe7_row2_col0\" class=\"data row2 col0\" >Shelly-Ann Fraser-Pryce</td>\n",
       "      <td id=\"T_9dbe7_row2_col1\" class=\"data row2 col1\" >11.490000</td>\n",
       "    </tr>\n",
       "    <tr>\n",
       "      <th id=\"T_9dbe7_level0_row3\" class=\"row_heading level0 row3\" >2</th>\n",
       "      <td id=\"T_9dbe7_row3_col0\" class=\"data row3 col0\" >Florence Griffith-Joyner</td>\n",
       "      <td id=\"T_9dbe7_row3_col1\" class=\"data row3 col1\" >11.490000</td>\n",
       "    </tr>\n",
       "    <tr>\n",
       "      <th id=\"T_9dbe7_level0_row4\" class=\"row_heading level0 row4\" >4</th>\n",
       "      <td id=\"T_9dbe7_row4_col0\" class=\"data row4 col0\" >Marion Jones</td>\n",
       "      <td id=\"T_9dbe7_row4_col1\" class=\"data row4 col1\" >13.650000</td>\n",
       "    </tr>\n",
       "  </tbody>\n",
       "</table>\n"
      ],
      "text/plain": [
       "<pandas.io.formats.style.Styler at 0x1ee7d91c130>"
      ]
     },
     "execution_count": 14,
     "metadata": {},
     "output_type": "execute_result"
    }
   ],
   "source": [
    "df.sort_values('Time').head(5)[['Athlete', 'Time']] \\\n",
    "    .style \\\n",
    "    .background_gradient(cmap=\"Greens\")"
   ]
  }
 ],
 "metadata": {
  "kernelspec": {
   "display_name": "Python 3 (ipykernel)",
   "language": "python",
   "name": "python3"
  },
  "language_info": {
   "codemirror_mode": {
    "name": "ipython",
    "version": 3
   },
   "file_extension": ".py",
   "mimetype": "text/x-python",
   "name": "python",
   "nbconvert_exporter": "python",
   "pygments_lexer": "ipython3",
   "version": "3.10.9"
  }
 },
 "nbformat": 4,
 "nbformat_minor": 5
}
